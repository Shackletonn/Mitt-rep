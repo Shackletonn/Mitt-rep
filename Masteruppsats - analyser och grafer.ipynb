{
 "cells": [
  {
   "cell_type": "code",
   "execution_count": 22,
   "id": "c0efe08a",
   "metadata": {},
   "outputs": [],
   "source": [
    "#Det här projektet är ett analysprojekt som jag gjort av min masteruppsats\n",
    "import pandas as pd\n",
    "import numpy as np\n",
    "import matplotlib.pyplot as plt\n",
    "import statsmodels.formula.api as smf\n",
    "\n",
    "data=pd.read_csv(r'E:\\Masterprogrammet\\Termin 4\\Masteruppsats\\Datasets\\marcus_Q1.csv', sep=';')"
   ]
  },
  {
   "cell_type": "code",
   "execution_count": 4,
   "id": "cbea09f5",
   "metadata": {},
   "outputs": [
    {
     "data": {
      "text/html": [
       "<div>\n",
       "<style scoped>\n",
       "    .dataframe tbody tr th:only-of-type {\n",
       "        vertical-align: middle;\n",
       "    }\n",
       "\n",
       "    .dataframe tbody tr th {\n",
       "        vertical-align: top;\n",
       "    }\n",
       "\n",
       "    .dataframe thead th {\n",
       "        text-align: right;\n",
       "    }\n",
       "</style>\n",
       "<table border=\"1\" class=\"dataframe\">\n",
       "  <thead>\n",
       "    <tr style=\"text-align: right;\">\n",
       "      <th></th>\n",
       "      <th>ProlificID</th>\n",
       "      <th>Age</th>\n",
       "      <th>Gender_Birth</th>\n",
       "      <th>GenderIdentity</th>\n",
       "      <th>Ethnicity</th>\n",
       "      <th>Handedness</th>\n",
       "      <th>Education</th>\n",
       "      <th>ASD_diagnosis</th>\n",
       "      <th>hasASD</th>\n",
       "      <th>hasADHD</th>\n",
       "      <th>...</th>\n",
       "      <th>hasSocAnx</th>\n",
       "      <th>hasPhobia</th>\n",
       "      <th>hasOCD</th>\n",
       "      <th>hasAdjDis</th>\n",
       "      <th>hasEatDis</th>\n",
       "      <th>hasPersDis</th>\n",
       "      <th>CATI_total</th>\n",
       "      <th>IHS_total</th>\n",
       "      <th>DMQ_Symptoms_total</th>\n",
       "      <th>Phonophobia</th>\n",
       "    </tr>\n",
       "  </thead>\n",
       "  <tbody>\n",
       "    <tr>\n",
       "      <th>0</th>\n",
       "      <td>5658fbd07d69570005dfe196</td>\n",
       "      <td>36</td>\n",
       "      <td>Female</td>\n",
       "      <td>Female</td>\n",
       "      <td>White</td>\n",
       "      <td>Right-handed</td>\n",
       "      <td>Associate degree</td>\n",
       "      <td>No</td>\n",
       "      <td>0</td>\n",
       "      <td>0</td>\n",
       "      <td>...</td>\n",
       "      <td>0</td>\n",
       "      <td>0</td>\n",
       "      <td>0</td>\n",
       "      <td>0</td>\n",
       "      <td>0</td>\n",
       "      <td>0</td>\n",
       "      <td>92</td>\n",
       "      <td>16</td>\n",
       "      <td>1</td>\n",
       "      <td>0</td>\n",
       "    </tr>\n",
       "    <tr>\n",
       "      <th>1</th>\n",
       "      <td>570521cfde5095001018a0c8</td>\n",
       "      <td>52</td>\n",
       "      <td>Male</td>\n",
       "      <td>Male</td>\n",
       "      <td>White</td>\n",
       "      <td>Right-handed</td>\n",
       "      <td>Bachelor degree</td>\n",
       "      <td>Suspected</td>\n",
       "      <td>0</td>\n",
       "      <td>0</td>\n",
       "      <td>...</td>\n",
       "      <td>0</td>\n",
       "      <td>0</td>\n",
       "      <td>0</td>\n",
       "      <td>0</td>\n",
       "      <td>0</td>\n",
       "      <td>0</td>\n",
       "      <td>101</td>\n",
       "      <td>0</td>\n",
       "      <td>0</td>\n",
       "      <td>0</td>\n",
       "    </tr>\n",
       "    <tr>\n",
       "      <th>2</th>\n",
       "      <td>576311d7151e5d000889e2e7</td>\n",
       "      <td>50</td>\n",
       "      <td>Male</td>\n",
       "      <td>Male</td>\n",
       "      <td>Multple</td>\n",
       "      <td>Right-handed</td>\n",
       "      <td>Some college but no degree</td>\n",
       "      <td>No</td>\n",
       "      <td>0</td>\n",
       "      <td>0</td>\n",
       "      <td>...</td>\n",
       "      <td>0</td>\n",
       "      <td>0</td>\n",
       "      <td>0</td>\n",
       "      <td>0</td>\n",
       "      <td>0</td>\n",
       "      <td>0</td>\n",
       "      <td>113</td>\n",
       "      <td>16</td>\n",
       "      <td>18</td>\n",
       "      <td>10</td>\n",
       "    </tr>\n",
       "    <tr>\n",
       "      <th>3</th>\n",
       "      <td>58016c9f551314000145af58</td>\n",
       "      <td>30</td>\n",
       "      <td>Female</td>\n",
       "      <td>Female</td>\n",
       "      <td>White</td>\n",
       "      <td>Right-handed</td>\n",
       "      <td>Associate degree</td>\n",
       "      <td>Yes</td>\n",
       "      <td>1</td>\n",
       "      <td>0</td>\n",
       "      <td>...</td>\n",
       "      <td>1</td>\n",
       "      <td>0</td>\n",
       "      <td>0</td>\n",
       "      <td>1</td>\n",
       "      <td>0</td>\n",
       "      <td>0</td>\n",
       "      <td>172</td>\n",
       "      <td>32</td>\n",
       "      <td>39</td>\n",
       "      <td>28</td>\n",
       "    </tr>\n",
       "    <tr>\n",
       "      <th>4</th>\n",
       "      <td>583ec287ad2f4300014b355a</td>\n",
       "      <td>66</td>\n",
       "      <td>Male</td>\n",
       "      <td>Male</td>\n",
       "      <td>White</td>\n",
       "      <td>Right-handed</td>\n",
       "      <td>Bachelor degree</td>\n",
       "      <td>No</td>\n",
       "      <td>0</td>\n",
       "      <td>0</td>\n",
       "      <td>...</td>\n",
       "      <td>1</td>\n",
       "      <td>0</td>\n",
       "      <td>0</td>\n",
       "      <td>0</td>\n",
       "      <td>0</td>\n",
       "      <td>0</td>\n",
       "      <td>137</td>\n",
       "      <td>50</td>\n",
       "      <td>32</td>\n",
       "      <td>18</td>\n",
       "    </tr>\n",
       "    <tr>\n",
       "      <th>...</th>\n",
       "      <td>...</td>\n",
       "      <td>...</td>\n",
       "      <td>...</td>\n",
       "      <td>...</td>\n",
       "      <td>...</td>\n",
       "      <td>...</td>\n",
       "      <td>...</td>\n",
       "      <td>...</td>\n",
       "      <td>...</td>\n",
       "      <td>...</td>\n",
       "      <td>...</td>\n",
       "      <td>...</td>\n",
       "      <td>...</td>\n",
       "      <td>...</td>\n",
       "      <td>...</td>\n",
       "      <td>...</td>\n",
       "      <td>...</td>\n",
       "      <td>...</td>\n",
       "      <td>...</td>\n",
       "      <td>...</td>\n",
       "      <td>...</td>\n",
       "    </tr>\n",
       "    <tr>\n",
       "      <th>79</th>\n",
       "      <td>63d3fbb451ad7ba5c2f30246</td>\n",
       "      <td>23</td>\n",
       "      <td>Male</td>\n",
       "      <td>Male</td>\n",
       "      <td>Black</td>\n",
       "      <td>Right-handed</td>\n",
       "      <td>High school degree or equivalent</td>\n",
       "      <td>No</td>\n",
       "      <td>0</td>\n",
       "      <td>0</td>\n",
       "      <td>...</td>\n",
       "      <td>0</td>\n",
       "      <td>0</td>\n",
       "      <td>0</td>\n",
       "      <td>0</td>\n",
       "      <td>0</td>\n",
       "      <td>0</td>\n",
       "      <td>77</td>\n",
       "      <td>9</td>\n",
       "      <td>3</td>\n",
       "      <td>1</td>\n",
       "    </tr>\n",
       "    <tr>\n",
       "      <th>80</th>\n",
       "      <td>63d5bb0d1cc3800ad1e343dc</td>\n",
       "      <td>18</td>\n",
       "      <td>Unknown</td>\n",
       "      <td>Male</td>\n",
       "      <td>White</td>\n",
       "      <td>Right-handed</td>\n",
       "      <td>Some college but no degree</td>\n",
       "      <td>Yes</td>\n",
       "      <td>1</td>\n",
       "      <td>0</td>\n",
       "      <td>...</td>\n",
       "      <td>0</td>\n",
       "      <td>0</td>\n",
       "      <td>0</td>\n",
       "      <td>0</td>\n",
       "      <td>0</td>\n",
       "      <td>0</td>\n",
       "      <td>183</td>\n",
       "      <td>40</td>\n",
       "      <td>34</td>\n",
       "      <td>16</td>\n",
       "    </tr>\n",
       "    <tr>\n",
       "      <th>81</th>\n",
       "      <td>63e576170eb086a90644efb4</td>\n",
       "      <td>36</td>\n",
       "      <td>Male</td>\n",
       "      <td>NB</td>\n",
       "      <td>Asian</td>\n",
       "      <td>Right-handed</td>\n",
       "      <td>Graduate degree</td>\n",
       "      <td>Yes</td>\n",
       "      <td>1</td>\n",
       "      <td>0</td>\n",
       "      <td>...</td>\n",
       "      <td>1</td>\n",
       "      <td>0</td>\n",
       "      <td>0</td>\n",
       "      <td>0</td>\n",
       "      <td>0</td>\n",
       "      <td>0</td>\n",
       "      <td>159</td>\n",
       "      <td>5</td>\n",
       "      <td>0</td>\n",
       "      <td>0</td>\n",
       "    </tr>\n",
       "    <tr>\n",
       "      <th>82</th>\n",
       "      <td>63e630188c3e4ac4a92b1ff5</td>\n",
       "      <td>47</td>\n",
       "      <td>Male</td>\n",
       "      <td>Male</td>\n",
       "      <td>White</td>\n",
       "      <td>Right-handed</td>\n",
       "      <td>Bachelor degree</td>\n",
       "      <td>No</td>\n",
       "      <td>0</td>\n",
       "      <td>0</td>\n",
       "      <td>...</td>\n",
       "      <td>0</td>\n",
       "      <td>0</td>\n",
       "      <td>0</td>\n",
       "      <td>0</td>\n",
       "      <td>0</td>\n",
       "      <td>0</td>\n",
       "      <td>57</td>\n",
       "      <td>7</td>\n",
       "      <td>0</td>\n",
       "      <td>1</td>\n",
       "    </tr>\n",
       "    <tr>\n",
       "      <th>83</th>\n",
       "      <td>64139ffc1abd71ea8545e3b9</td>\n",
       "      <td>25</td>\n",
       "      <td>Female</td>\n",
       "      <td>Male</td>\n",
       "      <td>Black</td>\n",
       "      <td>Right-handed</td>\n",
       "      <td>Bachelor degree</td>\n",
       "      <td>Yes</td>\n",
       "      <td>1</td>\n",
       "      <td>0</td>\n",
       "      <td>...</td>\n",
       "      <td>0</td>\n",
       "      <td>0</td>\n",
       "      <td>0</td>\n",
       "      <td>0</td>\n",
       "      <td>0</td>\n",
       "      <td>1</td>\n",
       "      <td>176</td>\n",
       "      <td>31</td>\n",
       "      <td>30</td>\n",
       "      <td>11</td>\n",
       "    </tr>\n",
       "  </tbody>\n",
       "</table>\n",
       "<p>84 rows × 27 columns</p>\n",
       "</div>"
      ],
      "text/plain": [
       "                  ProlificID  Age Gender_Birth GenderIdentity Ethnicity  \\\n",
       "0   5658fbd07d69570005dfe196   36       Female         Female     White   \n",
       "1   570521cfde5095001018a0c8   52         Male           Male     White   \n",
       "2   576311d7151e5d000889e2e7   50         Male           Male   Multple   \n",
       "3   58016c9f551314000145af58   30       Female         Female     White   \n",
       "4   583ec287ad2f4300014b355a   66         Male           Male     White   \n",
       "..                       ...  ...          ...            ...       ...   \n",
       "79  63d3fbb451ad7ba5c2f30246   23         Male           Male     Black   \n",
       "80  63d5bb0d1cc3800ad1e343dc   18      Unknown           Male     White   \n",
       "81  63e576170eb086a90644efb4   36         Male             NB     Asian   \n",
       "82  63e630188c3e4ac4a92b1ff5   47         Male           Male     White   \n",
       "83  64139ffc1abd71ea8545e3b9   25       Female           Male     Black   \n",
       "\n",
       "      Handedness                         Education ASD_diagnosis  hasASD  \\\n",
       "0   Right-handed                  Associate degree            No       0   \n",
       "1   Right-handed                   Bachelor degree     Suspected       0   \n",
       "2   Right-handed        Some college but no degree            No       0   \n",
       "3   Right-handed                  Associate degree           Yes       1   \n",
       "4   Right-handed                   Bachelor degree            No       0   \n",
       "..           ...                               ...           ...     ...   \n",
       "79  Right-handed  High school degree or equivalent            No       0   \n",
       "80  Right-handed        Some college but no degree           Yes       1   \n",
       "81  Right-handed                   Graduate degree           Yes       1   \n",
       "82  Right-handed                   Bachelor degree            No       0   \n",
       "83  Right-handed                   Bachelor degree           Yes       1   \n",
       "\n",
       "    hasADHD  ...  hasSocAnx  hasPhobia  hasOCD  hasAdjDis  hasEatDis  \\\n",
       "0         0  ...          0          0       0          0          0   \n",
       "1         0  ...          0          0       0          0          0   \n",
       "2         0  ...          0          0       0          0          0   \n",
       "3         0  ...          1          0       0          1          0   \n",
       "4         0  ...          1          0       0          0          0   \n",
       "..      ...  ...        ...        ...     ...        ...        ...   \n",
       "79        0  ...          0          0       0          0          0   \n",
       "80        0  ...          0          0       0          0          0   \n",
       "81        0  ...          1          0       0          0          0   \n",
       "82        0  ...          0          0       0          0          0   \n",
       "83        0  ...          0          0       0          0          0   \n",
       "\n",
       "    hasPersDis  CATI_total  IHS_total  DMQ_Symptoms_total  Phonophobia  \n",
       "0            0          92         16                   1            0  \n",
       "1            0         101          0                   0            0  \n",
       "2            0         113         16                  18           10  \n",
       "3            0         172         32                  39           28  \n",
       "4            0         137         50                  32           18  \n",
       "..         ...         ...        ...                 ...          ...  \n",
       "79           0          77          9                   3            1  \n",
       "80           0         183         40                  34           16  \n",
       "81           0         159          5                   0            0  \n",
       "82           0          57          7                   0            1  \n",
       "83           1         176         31                  30           11  \n",
       "\n",
       "[84 rows x 27 columns]"
      ]
     },
     "execution_count": 4,
     "metadata": {},
     "output_type": "execute_result"
    }
   ],
   "source": [
    "data"
   ]
  },
  {
   "cell_type": "code",
   "execution_count": 16,
   "id": "357c8d62",
   "metadata": {},
   "outputs": [
    {
     "data": {
      "text/plain": [
       "ProlificID            object\n",
       "Age                    int64\n",
       "Gender_Birth          object\n",
       "GenderIdentity        object\n",
       "Ethnicity             object\n",
       "Handedness            object\n",
       "Education             object\n",
       "ASD_diagnosis         object\n",
       "hasASD                 int64\n",
       "hasADHD                int64\n",
       "hasDCD                 int64\n",
       "hasSLD                 int64\n",
       "hasComm                int64\n",
       "hasTic                 int64\n",
       "hasID                  int64\n",
       "hasMood                int64\n",
       "hasGAD                 int64\n",
       "hasSocAnx              int64\n",
       "hasPhobia              int64\n",
       "hasOCD                 int64\n",
       "hasAdjDis              int64\n",
       "hasEatDis              int64\n",
       "hasPersDis             int64\n",
       "CATI_total             int64\n",
       "IHS_total              int64\n",
       "DMQ_Symptoms_total     int64\n",
       "Phonophobia            int64\n",
       "dtype: object"
      ]
     },
     "execution_count": 16,
     "metadata": {},
     "output_type": "execute_result"
    }
   ],
   "source": [
    "data.dtypes"
   ]
  },
  {
   "cell_type": "code",
   "execution_count": 17,
   "id": "79149044",
   "metadata": {},
   "outputs": [
    {
     "data": {
      "text/plain": [
       "Index                  128\n",
       "ProlificID            6804\n",
       "Age                    672\n",
       "Gender_Birth          5199\n",
       "GenderIdentity        5176\n",
       "Ethnicity             5224\n",
       "Handedness            5806\n",
       "Education             6396\n",
       "ASD_diagnosis         5035\n",
       "hasASD                 672\n",
       "hasADHD                672\n",
       "hasDCD                 672\n",
       "hasSLD                 672\n",
       "hasComm                672\n",
       "hasTic                 672\n",
       "hasID                  672\n",
       "hasMood                672\n",
       "hasGAD                 672\n",
       "hasSocAnx              672\n",
       "hasPhobia              672\n",
       "hasOCD                 672\n",
       "hasAdjDis              672\n",
       "hasEatDis              672\n",
       "hasPersDis             672\n",
       "CATI_total             672\n",
       "IHS_total              672\n",
       "DMQ_Symptoms_total     672\n",
       "Phonophobia            672\n",
       "dtype: int64"
      ]
     },
     "execution_count": 17,
     "metadata": {},
     "output_type": "execute_result"
    }
   ],
   "source": [
    "data.memory_usage(deep=True)"
   ]
  },
  {
   "cell_type": "markdown",
   "id": "96fa283d",
   "metadata": {},
   "source": [
    "### Deskriptiv statistik"
   ]
  },
  {
   "cell_type": "code",
   "execution_count": 8,
   "id": "a41cda83",
   "metadata": {},
   "outputs": [
    {
     "name": "stdout",
     "output_type": "stream",
     "text": [
      "    CATI_total  IHS_total  DMQ_Symptoms_total  Phonophobia\n",
      "0           92         16                   1            0\n",
      "1          101          0                   0            0\n",
      "2          113         16                  18           10\n",
      "3          172         32                  39           28\n",
      "4          137         50                  32           18\n",
      "..         ...        ...                 ...          ...\n",
      "79          77          9                   3            1\n",
      "80         183         40                  34           16\n",
      "81         159          5                   0            0\n",
      "82          57          7                   0            1\n",
      "83         176         31                  30           11\n",
      "\n",
      "[84 rows x 4 columns]\n"
     ]
    }
   ],
   "source": [
    "t=data.iloc[:,23:28]\n",
    "print(t)"
   ]
  },
  {
   "cell_type": "code",
   "execution_count": 19,
   "id": "f38a8cd6",
   "metadata": {},
   "outputs": [
    {
     "name": "stdout",
     "output_type": "stream",
     "text": [
      "       CATI_total  IHS_total  DMQ_Symptoms_total  Phonophobia\n",
      "count   84.000000  84.000000           84.000000    84.000000\n",
      "mean   117.714286  20.428571           16.261905     5.047619\n",
      "std     37.478852  16.469238           18.072891     7.323678\n",
      "min     49.000000   0.000000            0.000000     0.000000\n",
      "25%     86.750000   7.750000            0.000000     0.000000\n",
      "50%    114.000000  18.000000           11.500000     2.000000\n",
      "75%    144.000000  30.000000           29.250000     8.000000\n",
      "max    193.000000  70.000000           67.000000    36.000000\n"
     ]
    }
   ],
   "source": [
    "print(t.describe())"
   ]
  },
  {
   "cell_type": "code",
   "execution_count": 24,
   "id": "877045e0",
   "metadata": {},
   "outputs": [
    {
     "data": {
      "text/plain": [
       "<bound method DataFrame.value_counts of     CATI_total  IHS_total  DMQ_Symptoms_total  Phonophobia\n",
       "0           92         16                   1            0\n",
       "1          101          0                   0            0\n",
       "2          113         16                  18           10\n",
       "3          172         32                  39           28\n",
       "4          137         50                  32           18\n",
       "..         ...        ...                 ...          ...\n",
       "79          77          9                   3            1\n",
       "80         183         40                  34           16\n",
       "81         159          5                   0            0\n",
       "82          57          7                   0            1\n",
       "83         176         31                  30           11\n",
       "\n",
       "[84 rows x 4 columns]>"
      ]
     },
     "execution_count": 24,
     "metadata": {},
     "output_type": "execute_result"
    }
   ],
   "source": [
    "t.value_counts"
   ]
  },
  {
   "cell_type": "markdown",
   "id": "b010a2c8",
   "metadata": {},
   "source": [
    "### Korrelationsgraf: Hyperakusi"
   ]
  },
  {
   "cell_type": "code",
   "execution_count": 9,
   "id": "60199e6d",
   "metadata": {},
   "outputs": [
    {
     "data": {
      "text/html": [
       "<div>\n",
       "<style scoped>\n",
       "    .dataframe tbody tr th:only-of-type {\n",
       "        vertical-align: middle;\n",
       "    }\n",
       "\n",
       "    .dataframe tbody tr th {\n",
       "        vertical-align: top;\n",
       "    }\n",
       "\n",
       "    .dataframe thead th {\n",
       "        text-align: right;\n",
       "    }\n",
       "</style>\n",
       "<table border=\"1\" class=\"dataframe\">\n",
       "  <thead>\n",
       "    <tr style=\"text-align: right;\">\n",
       "      <th></th>\n",
       "      <th>CATI_total</th>\n",
       "      <th>IHS_total</th>\n",
       "      <th>DMQ_Symptoms_total</th>\n",
       "      <th>Phonophobia</th>\n",
       "    </tr>\n",
       "  </thead>\n",
       "  <tbody>\n",
       "    <tr>\n",
       "      <th>CATI_total</th>\n",
       "      <td>1.000000</td>\n",
       "      <td>0.685930</td>\n",
       "      <td>0.481167</td>\n",
       "      <td>0.584018</td>\n",
       "    </tr>\n",
       "    <tr>\n",
       "      <th>IHS_total</th>\n",
       "      <td>0.685930</td>\n",
       "      <td>1.000000</td>\n",
       "      <td>0.764251</td>\n",
       "      <td>0.764681</td>\n",
       "    </tr>\n",
       "    <tr>\n",
       "      <th>DMQ_Symptoms_total</th>\n",
       "      <td>0.481167</td>\n",
       "      <td>0.764251</td>\n",
       "      <td>1.000000</td>\n",
       "      <td>0.763703</td>\n",
       "    </tr>\n",
       "    <tr>\n",
       "      <th>Phonophobia</th>\n",
       "      <td>0.584018</td>\n",
       "      <td>0.764681</td>\n",
       "      <td>0.763703</td>\n",
       "      <td>1.000000</td>\n",
       "    </tr>\n",
       "  </tbody>\n",
       "</table>\n",
       "</div>"
      ],
      "text/plain": [
       "                    CATI_total  IHS_total  DMQ_Symptoms_total  Phonophobia\n",
       "CATI_total            1.000000   0.685930            0.481167     0.584018\n",
       "IHS_total             0.685930   1.000000            0.764251     0.764681\n",
       "DMQ_Symptoms_total    0.481167   0.764251            1.000000     0.763703\n",
       "Phonophobia           0.584018   0.764681            0.763703     1.000000"
      ]
     },
     "execution_count": 9,
     "metadata": {},
     "output_type": "execute_result"
    }
   ],
   "source": [
    "#Tar fram korrelationerna mellan autism och de olika typerna av ljudkänslighet\n",
    "t.corr()"
   ]
  },
  {
   "cell_type": "code",
   "execution_count": 12,
   "id": "c7695bf6",
   "metadata": {},
   "outputs": [
    {
     "data": {
      "text/plain": [
       "array([ 1.56096276, 85.8260464 ])"
      ]
     },
     "execution_count": 12,
     "metadata": {},
     "output_type": "execute_result"
    }
   ],
   "source": [
    "reg=np.polyfit(x=data['IHS_total'], y=data['CATI_total'], deg=1)\n",
    "reg"
   ]
  },
  {
   "cell_type": "code",
   "execution_count": 13,
   "id": "b633c547",
   "metadata": {},
   "outputs": [],
   "source": [
    "trend=np.polyval(reg, data['IHS_total'])"
   ]
  },
  {
   "cell_type": "code",
   "execution_count": 15,
   "id": "13c2f9af",
   "metadata": {},
   "outputs": [
    {
     "data": {
      "image/png": "[encoded data removed]",
      "text/plain": [
       "<Figure size 640x480 with 1 Axes>"
      ]
     },
     "metadata": {},
     "output_type": "display_data"
    }
   ],
   "source": [
    "#Skapar spridningsdiagrammet för autism och hyperakusi\n",
    "plt.scatter(x=data['IHS_total'],y=data['CATI_total'], c='r')\n",
    "plt.plot(data['IHS_total'], trend, 'r')\n",
    "\n",
    "#Bestämmer namnen på x och y axlarna\n",
    "plt.title('Relationship Between Autism and Hyperacusis', fontdict={'fontname': 'Times New Roman', 'fontsize': 15})\n",
    "plt.ylabel('Autism Scores')\n",
    "plt.xlabel('Hyperacusis Scores')\n",
    "\n",
    "#Bestämmer intervallet på y-axeln\n",
    "plt.yticks([0,50,100,150,200])\n",
    "plt.show()"
   ]
  },
  {
   "cell_type": "markdown",
   "id": "fd6929a0",
   "metadata": {},
   "source": [
    "### Korrelationsgraf: Misofoni"
   ]
  },
  {
   "cell_type": "code",
   "execution_count": 16,
   "id": "a0a11d3d",
   "metadata": {},
   "outputs": [],
   "source": [
    "reg2=np.polyfit(x=data['DMQ_Symptoms_total'], y=data['CATI_total'], deg=1)"
   ]
  },
  {
   "cell_type": "code",
   "execution_count": 17,
   "id": "3dfdea6e",
   "metadata": {},
   "outputs": [],
   "source": [
    "trend2=np.polyval(reg2, data['DMQ_Symptoms_total'])"
   ]
  },
  {
   "cell_type": "code",
   "execution_count": 18,
   "id": "0afb65e7",
   "metadata": {},
   "outputs": [
    {
     "data": {
      "image/png": "[encoded data removed]",
      "text/plain": [
       "<Figure size 640x480 with 1 Axes>"
      ]
     },
     "metadata": {},
     "output_type": "display_data"
    }
   ],
   "source": [
    "plt.scatter(x=data['DMQ_Symptoms_total'],y=data['CATI_total'])\n",
    "plt.plot(data['DMQ_Symptoms_total'], trend2, 'b')\n",
    "\n",
    "plt.title('Relationship Between Autism and Misophonia', fontdict={'fontname': 'Times New Roman', 'fontsize': 15})\n",
    "plt.ylabel('Autism Scores')\n",
    "plt.xlabel('Misophonia Scores')\n",
    "\n",
    "plt.yticks([0,50,100,150,200])\n",
    "plt.show()"
   ]
  },
  {
   "cell_type": "code",
   "execution_count": 19,
   "id": "5267d4b3",
   "metadata": {},
   "outputs": [],
   "source": [
    "reg3=np.polyfit(x=data['Phonophobia'], y=data['CATI_total'], deg=1)"
   ]
  },
  {
   "cell_type": "code",
   "execution_count": 20,
   "id": "11e37824",
   "metadata": {},
   "outputs": [],
   "source": [
    "trend3=np.polyval(reg3, data['Phonophobia'])"
   ]
  },
  {
   "cell_type": "code",
   "execution_count": 21,
   "id": "40e0f0d7",
   "metadata": {},
   "outputs": [
    {
     "data": {
      "image/png": "[encoded data removed]",
      "text/plain": [
       "<Figure size 640x480 with 1 Axes>"
      ]
     },
     "metadata": {},
     "output_type": "display_data"
    }
   ],
   "source": [
    "plt.scatter(x=data['Phonophobia'],y=data['CATI_total'])\n",
    "plt.plot(data['Phonophobia'], trend3, '#9467bd')\n",
    "\n",
    "plt.title('Relationship Between Autism and Phonophobia', fontdict={'fontname': 'Times New Roman', 'fontsize': 15})\n",
    "plt.ylabel('Autism Scores')\n",
    "plt.xlabel('Phonophobia Scores')\n",
    "\n",
    "plt.xticks([0,10,20,30,40])\n",
    "plt.yticks([0,50,100,150,200])\n",
    "plt.show()"
   ]
  },
  {
   "cell_type": "markdown",
   "id": "f634e2eb",
   "metadata": {},
   "source": [
    "### Regressionsanalyserna"
   ]
  },
  {
   "cell_type": "code",
   "execution_count": 25,
   "id": "6f64b348",
   "metadata": {},
   "outputs": [],
   "source": [
    "#skapar en till regressionsvariabel\n",
    "reg1_analysis='CATI_total~IHS_total+Age'"
   ]
  },
  {
   "cell_type": "code",
   "execution_count": 26,
   "id": "e0871654",
   "metadata": {},
   "outputs": [
    {
     "name": "stdout",
     "output_type": "stream",
     "text": [
      "                            OLS Regression Results                            \n",
      "==============================================================================\n",
      "Dep. Variable:             CATI_total   R-squared:                       0.504\n",
      "Model:                            OLS   Adj. R-squared:                  0.491\n",
      "Method:                 Least Squares   F-statistic:                     41.08\n",
      "Date:                Sun, 10 Sep 2023   Prob (F-statistic):           4.82e-13\n",
      "Time:                        14:49:50   Log-Likelihood:                -393.67\n",
      "No. Observations:                  84   AIC:                             793.3\n",
      "Df Residuals:                      81   BIC:                             800.6\n",
      "Df Model:                           2                                         \n",
      "Covariance Type:            nonrobust                                         \n",
      "==============================================================================\n",
      "                 coef    std err          t      P>|t|      [0.025      0.975]\n",
      "------------------------------------------------------------------------------\n",
      "Intercept    110.4135     11.572      9.542      0.000      87.389     133.438\n",
      "IHS_total      1.4467      0.185      7.827      0.000       1.079       1.814\n",
      "Age           -0.5636      0.243     -2.322      0.023      -1.047      -0.081\n",
      "==============================================================================\n",
      "Omnibus:                        1.306   Durbin-Watson:                   2.134\n",
      "Prob(Omnibus):                  0.520   Jarque-Bera (JB):                1.233\n",
      "Skew:                           0.161   Prob(JB):                        0.540\n",
      "Kurtosis:                       2.501   Cond. No.                         182.\n",
      "==============================================================================\n",
      "\n",
      "Notes:\n",
      "[1] Standard Errors assume that the covariance matrix of the errors is correctly specified.\n"
     ]
    }
   ],
   "source": [
    "reg1output=smf.ols(reg1_analysis,data).fit()\n",
    "print(reg1output.summary())"
   ]
  },
  {
   "cell_type": "code",
   "execution_count": 28,
   "id": "0ee7ac64",
   "metadata": {},
   "outputs": [],
   "source": [
    "reg2_analysis='CATI_total~DMQ_Symptoms_total+Age'"
   ]
  },
  {
   "cell_type": "code",
   "execution_count": 29,
   "id": "10989541",
   "metadata": {},
   "outputs": [
    {
     "name": "stdout",
     "output_type": "stream",
     "text": [
      "                            OLS Regression Results                            \n",
      "==============================================================================\n",
      "Dep. Variable:             CATI_total   R-squared:                       0.311\n",
      "Model:                            OLS   Adj. R-squared:                  0.294\n",
      "Method:                 Least Squares   F-statistic:                     18.31\n",
      "Date:                Sun, 10 Sep 2023   Prob (F-statistic):           2.74e-07\n",
      "Time:                        14:53:26   Log-Likelihood:                -407.42\n",
      "No. Observations:                  84   AIC:                             820.8\n",
      "Df Residuals:                      81   BIC:                             828.1\n",
      "Df Model:                           2                                         \n",
      "Covariance Type:            nonrobust                                         \n",
      "======================================================================================\n",
      "                         coef    std err          t      P>|t|      [0.025      0.975]\n",
      "--------------------------------------------------------------------------------------\n",
      "Intercept            136.8848     12.444     11.000      0.000     112.125     161.644\n",
      "DMQ_Symptoms_total     0.9002      0.194      4.644      0.000       0.515       1.286\n",
      "Age                   -0.8562      0.279     -3.065      0.003      -1.412      -0.300\n",
      "==============================================================================\n",
      "Omnibus:                        1.900   Durbin-Watson:                   1.820\n",
      "Prob(Omnibus):                  0.387   Jarque-Bera (JB):                1.891\n",
      "Skew:                           0.304   Prob(JB):                        0.388\n",
      "Kurtosis:                       2.586   Cond. No.                         161.\n",
      "==============================================================================\n",
      "\n",
      "Notes:\n",
      "[1] Standard Errors assume that the covariance matrix of the errors is correctly specified.\n"
     ]
    }
   ],
   "source": [
    "reg2output=smf.ols(reg2_analysis,data).fit()\n",
    "print(reg2output.summary())"
   ]
  },
  {
   "cell_type": "code",
   "execution_count": 30,
   "id": "c40e9ce8",
   "metadata": {},
   "outputs": [],
   "source": [
    "reg3_analysis='CATI_total~Phonophobia+Age'"
   ]
  },
  {
   "cell_type": "code",
   "execution_count": 31,
   "id": "e09488b1",
   "metadata": {},
   "outputs": [
    {
     "name": "stdout",
     "output_type": "stream",
     "text": [
      "                            OLS Regression Results                            \n",
      "==============================================================================\n",
      "Dep. Variable:             CATI_total   R-squared:                       0.390\n",
      "Model:                            OLS   Adj. R-squared:                  0.375\n",
      "Method:                 Least Squares   F-statistic:                     25.88\n",
      "Date:                Sun, 10 Sep 2023   Prob (F-statistic):           2.04e-09\n",
      "Time:                        14:54:30   Log-Likelihood:                -402.33\n",
      "No. Observations:                  84   AIC:                             810.7\n",
      "Df Residuals:                      81   BIC:                             818.0\n",
      "Df Model:                           2                                         \n",
      "Covariance Type:            nonrobust                                         \n",
      "===============================================================================\n",
      "                  coef    std err          t      P>|t|      [0.025      0.975]\n",
      "-------------------------------------------------------------------------------\n",
      "Intercept     130.9787     11.810     11.090      0.000     107.480     154.478\n",
      "Phonophobia     2.7018      0.458      5.896      0.000       1.790       3.613\n",
      "Age            -0.6813      0.268     -2.546      0.013      -1.214      -0.149\n",
      "==============================================================================\n",
      "Omnibus:                        2.554   Durbin-Watson:                   2.052\n",
      "Prob(Omnibus):                  0.279   Jarque-Bera (JB):                2.544\n",
      "Skew:                           0.389   Prob(JB):                        0.280\n",
      "Kurtosis:                       2.652   Cond. No.                         152.\n",
      "==============================================================================\n",
      "\n",
      "Notes:\n",
      "[1] Standard Errors assume that the covariance matrix of the errors is correctly specified.\n"
     ]
    }
   ],
   "source": [
    "reg3output=smf.ols(reg3_analysis,data).fit()\n",
    "print(reg3output.summary())"
   ]
  },
  {
   "cell_type": "code",
   "execution_count": null,
   "id": "4ff0eaa7",
   "metadata": {},
   "outputs": [],
   "source": []
  }
 ],
 "metadata": {
  "kernelspec": {
   "display_name": "Python 3 (ipykernel)",
   "language": "python",
   "name": "python3"
  },
  "language_info": {
   "codemirror_mode": {
    "name": "ipython",
    "version": 3
   },
   "file_extension": ".py",
   "mimetype": "text/x-python",
   "name": "python",
   "nbconvert_exporter": "python",
   "pygments_lexer": "ipython3",
   "version": "3.10.9"
  }
 },
 "nbformat": 4,
 "nbformat_minor": 5
}
